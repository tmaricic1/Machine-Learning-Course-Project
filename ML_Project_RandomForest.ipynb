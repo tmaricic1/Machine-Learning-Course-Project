{
 "cells": [
  {
   "cell_type": "markdown",
   "metadata": {},
   "source": [
    "# Project Extension #2: Random Forest"
   ]
  },
  {
   "cell_type": "markdown",
   "metadata": {},
   "source": [
    "### Part I: Creating and Training Both A Standard Decision Tree and Random Forest Classifier Using SciKit Learn"
   ]
  },
  {
   "cell_type": "markdown",
   "metadata": {},
   "source": [
    "##### We will first use the MNIST digits dataset from SciKit Learn"
   ]
  },
  {
   "cell_type": "code",
   "execution_count": 1,
   "metadata": {},
   "outputs": [],
   "source": [
    "from sklearn.datasets import load_digits # The MNIST data set is in scikit learn data set\n",
    "from sklearn.preprocessing import StandardScaler  # It is important in neural networks to scale the date\n",
    "from sklearn.model_selection import train_test_split  # The standard - train/test to prevent overfitting and choose hyperparameters\n",
    "import numpy as np\n",
    "import matplotlib.pyplot as plt "
   ]
  },
  {
   "cell_type": "code",
   "execution_count": 2,
   "metadata": {},
   "outputs": [
    {
     "name": "stdout",
     "output_type": "stream",
     "text": [
      "The shape of the digits dataset:\n",
      "(1797, 64)\n"
     ]
    },
    {
     "data": {
      "text/plain": [
       "<Figure size 640x480 with 0 Axes>"
      ]
     },
     "metadata": {},
     "output_type": "display_data"
    },
    {
     "data": {
      "image/png": "[encoded data removed]",
      "text/plain": [
       "<Figure size 480x480 with 1 Axes>"
      ]
     },
     "metadata": {},
     "output_type": "display_data"
    },
    {
     "name": "stdout",
     "output_type": "stream",
     "text": [
      "[0]\n",
      "[ 0.  0.  5. 13.  9.  1.  0.  0.  0.  0. 13. 15. 10. 15.  5.  0.  0.  3.\n",
      " 15.  2.  0. 11.  8.  0.  0.  4. 12.  0.  0.  8.  8.  0.  0.  5.  8.  0.\n",
      "  0.  9.  8.  0.  0.  4. 11.  0.  1. 12.  7.  0.  0.  2. 14.  5. 10. 12.\n",
      "  0.  0.  0.  0.  6. 13. 10.  0.  0.  0.]\n"
     ]
    }
   ],
   "source": [
    "digits=load_digits()\n",
    "X = digits.data\n",
    "print(\"The shape of the digits dataset:\") \n",
    "print(digits.data.shape)\n",
    "plt.gray()\n",
    "plt.matshow(digits.images[0])\n",
    "plt.show()\n",
    "y = digits.target\n",
    "print(y[0:1])\n",
    "print(X[0,:])"
   ]
  },
  {
   "cell_type": "code",
   "execution_count": 37,
   "metadata": {},
   "outputs": [
    {
     "name": "stdout",
     "output_type": "stream",
     "text": [
      "(1078,)\n",
      "(1078, 64)\n"
     ]
    }
   ],
   "source": [
    "#Split the data into training and test set.  60% training and %40 test\n",
    "X_train, X_test, y_train, y_test = train_test_split(X, y, test_size=0.4)\n",
    "print(y_train.shape)\n",
    "print(X_train.shape)"
   ]
  },
  {
   "cell_type": "markdown",
   "metadata": {},
   "source": [
    "##### Standard Decision Tree"
   ]
  },
  {
   "cell_type": "code",
   "execution_count": 38,
   "metadata": {},
   "outputs": [
    {
     "data": {
      "text/plain": [
       "0.8289290681502086"
      ]
     },
     "execution_count": 38,
     "metadata": {},
     "output_type": "execute_result"
    }
   ],
   "source": [
    "from sklearn.tree import DecisionTreeClassifier\n",
    "from sklearn.tree import export_graphviz\n",
    "from sklearn.ensemble import RandomForestClassifier\n",
    "dt = DecisionTreeClassifier()\n",
    "dt.fit(X_train,y_train)\n",
    "dt.score(X_test,y_test)"
   ]
  },
  {
   "cell_type": "markdown",
   "metadata": {},
   "source": [
    "##### Random Forest"
   ]
  },
  {
   "cell_type": "code",
   "execution_count": 39,
   "metadata": {},
   "outputs": [
    {
     "data": {
      "text/plain": [
       "0.96105702364395"
      ]
     },
     "execution_count": 39,
     "metadata": {},
     "output_type": "execute_result"
    }
   ],
   "source": [
    "rf = RandomForestClassifier(n_estimators=100, n_jobs=-1)\n",
    "rf.fit(X_train,y_train)\n",
    "rf.score(X_test,y_test)"
   ]
  },
  {
   "cell_type": "markdown",
   "metadata": {},
   "source": [
    "### Part II: Creating a Decision Tree From Scratch"
   ]
  },
  {
   "cell_type": "code",
   "execution_count": 30,
   "metadata": {},
   "outputs": [],
   "source": [
    "# Entropy Function\n",
    "def entropy(y):\n",
    "    ysort = np.sort(y)\n",
    "    total = len(y)\n",
    "    if total == 0:\n",
    "        return 0\n",
    "    count = 1\n",
    "    entropy = 0\n",
    "    for i in range(1,len(y)):\n",
    "        if ysort[i] == ysort[i-1]:\n",
    "            count += 1\n",
    "        else:\n",
    "            if count > 0:\n",
    "                entropy += -1*(count/total)*np.log2(count/total)\n",
    "                count = 1\n",
    "    if count > 0:\n",
    "        entropy += -1*(count/total)*np.log2(count/total)\n",
    "    return entropy\n",
    "    "
   ]
  },
  {
   "cell_type": "code",
   "execution_count": 31,
   "metadata": {},
   "outputs": [],
   "source": [
    "class TreeNode:\n",
    "    def __init__(self, f, t):\n",
    "        self.f = f\n",
    "        self.t = t\n",
    "        self.l = None\n",
    "        self.r = None\n",
    "\n",
    "class Leaf:\n",
    "    def __init__(self, X, y, label):\n",
    "        self.X = X\n",
    "        self.y = y\n",
    "        self.label = label\n",
    "\n",
    "\n",
    "def allEqual(arr):\n",
    "    if arr is None or len(arr) <= 1:\n",
    "        return True\n",
    "    num = arr[0]\n",
    "    for val in arr:\n",
    "        if num != val:\n",
    "            return False\n",
    "    return True\n",
    "\n",
    "\n",
    "\n",
    "def createTree(X, y, level, maxlevel):\n",
    "    if allEqual(y) or level >= maxlevel:\n",
    "        if y is None:\n",
    "            return None\n",
    "        else:\n",
    "            digits = np.zeros((10,1),dtype=int) \n",
    "            for val in y:\n",
    "                digits[int(val)] += 1\n",
    "            leaf = Leaf(X, y, np.argmax(digits))\n",
    "            return leaf\n",
    "    else:\n",
    "        bestF, bestT, X1, X2, y1, y2 = findBestSplit(X, y)\n",
    "        root = TreeNode(bestF, bestT)\n",
    "        root.l = createTree(X1, y1, level + 1, maxlevel)\n",
    "        root.r = createTree(X2, y2, level + 1, maxlevel)\n",
    "        return root\n",
    "\n",
    "def findBestSplit(X, y):\n",
    "    bestF = 0\n",
    "    bestT = 0\n",
    "    gain = 0\n",
    "    ylen = len(y)\n",
    "    X1 = None\n",
    "    X2 = None\n",
    "    y1 = None\n",
    "    y2 = None\n",
    "    Xy = np.append(X,np.reshape(y, (len(y),1)),axis = 1)\n",
    "    ycol = len(Xy[0]) - 1\n",
    "    ent = entropy(y)\n",
    "    for i in range(len(X[0])): \n",
    "        sortX = Xy[Xy[:, i].argsort()]\n",
    "        for j in range(1, len(X)):\n",
    "            if sortX[j][ycol] != sortX[j-1][ycol]:\n",
    "                newgain = ent - ((len(sortX[:j, ycol])/ylen)*entropy(sortX[:j,ycol]) + (len(sortX[j:,ycol])/ylen)*entropy(sortX[j:,ycol]))\n",
    "                if gain < newgain:\n",
    "                    gain = newgain\n",
    "                    bestF = i\n",
    "                    bestT = sortX[j][i]   \n",
    "                    X1 = sortX[:j, :ycol]  \n",
    "                    X2 = sortX[j:, :ycol]\n",
    "                    y1 = sortX[:j,ycol]\n",
    "                    y2 = sortX[j:,ycol]\n",
    "    return bestF, bestT, X1, X2, y1, y2\n",
    "\n",
    "def treePrint(root):\n",
    "    if root is not None and type(root) == TreeNode:\n",
    "        print(\"Best Feature: \", root.f)\n",
    "        print(\"Best Threshold: \", root.t)\n",
    "        print(\"\\n\")\n",
    "        if root.l is not None:\n",
    "            treePrint(root.l)\n",
    "        if root.r is not None:\n",
    "            treePrint(root.r)\n",
    "    elif type(root) == Leaf:\n",
    "        print(\"Entropy: \", entropy(root.y))\n",
    "        print(\"Labels at node:\", root.y)\n",
    "        print(\"\\n\")"
   ]
  },
  {
   "cell_type": "code",
   "execution_count": 40,
   "metadata": {},
   "outputs": [],
   "source": [
    "root = createTree(X_train, y_train, 0, 7)"
   ]
  },
  {
   "cell_type": "code",
   "execution_count": 42,
   "metadata": {},
   "outputs": [
    {
     "name": "stdout",
     "output_type": "stream",
     "text": [
      "Accuracy:  0.8122392211404729\n"
     ]
    }
   ],
   "source": [
    "def predict(node, X):\n",
    "    root = node\n",
    "    res = []\n",
    "    for digit in X:\n",
    "        while type(node) != Leaf:\n",
    "            if digit[node.f] < node.t:\n",
    "                node = node.l\n",
    "            else:\n",
    "                node = node.r\n",
    "        res.append(node.label)\n",
    "        node = root\n",
    "    return res\n",
    "\n",
    "def accuracy(res, y):\n",
    "    correct = 0\n",
    "    for i, num in enumerate(res):\n",
    "        if res[i] == y[i]:\n",
    "            correct += 1\n",
    "    print(\"Accuracy: \", correct/len(y))\n",
    "\n",
    "\n",
    "accuracy(predict(root, X_test), y_test)\n"
   ]
  },
  {
   "cell_type": "markdown",
   "metadata": {},
   "source": [
    "### Part III: Creating a Random Forest Classifier From Scratch to Improve Accuracy"
   ]
  },
  {
   "cell_type": "code",
   "execution_count": 46,
   "metadata": {},
   "outputs": [],
   "source": [
    "def rf_trainingSet_features(X, y):\n",
    "    rand_row = np.random.choice(X.shape[0], len(X), replace=True)\n",
    "    rand_col = np.random.choice(X.shape[1], int(np.sqrt(X.shape[1])), replace=False)\n",
    "    X_subset = X[rand_row, :]\n",
    "    X_subset = X_subset[:, rand_col]\n",
    "    y_subset = y[rand_row]\n",
    "    return X_subset, y_subset, rand_col\n",
    "\n",
    "def randomForest(X, y, m, maxlevel):\n",
    "    forest = []\n",
    "    cols = []\n",
    "    for i in range(m):\n",
    "        tempX_train, tempy_train, col = rf_trainingSet_features(X, y)\n",
    "        forest.append(createTree(tempX_train, tempy_train, 0, maxlevel))\n",
    "        cols.append(col)\n",
    "        if i % 10 == 0:\n",
    "            if i == 0:\n",
    "                print(\"Tree #: 1\")\n",
    "            else:\n",
    "                print(\"Tree #:\", i)\n",
    "    return forest, cols\n",
    "\n",
    "def forestPredict(forest, cols, X, m):\n",
    "    res = np.empty((m, X.shape[0]))\n",
    "    finalres = []\n",
    "    for i, tree in enumerate(forest):\n",
    "        res[i] = np.array(predict(tree, X[:,cols[i]]))\n",
    "    for i in range(len(res[0])):\n",
    "        vals, counts = np.unique(res[:,i].astype('int'), return_counts=True)\n",
    "        mode_index = np.argwhere(counts == np.max(counts))[0]\n",
    "        mode_value = vals[mode_index]  # Get the actual mode value\n",
    "        ind = np.random.randint(0,len(mode_value))\n",
    "        finalres.append(mode_value[ind])\n",
    "    return finalres\n",
    "    \n",
    "    "
   ]
  },
  {
   "cell_type": "code",
   "execution_count": 44,
   "metadata": {},
   "outputs": [
    {
     "name": "stdout",
     "output_type": "stream",
     "text": [
      "Tree #: 1\n",
      "Tree #: 10\n",
      "Tree #: 20\n",
      "Tree #: 30\n",
      "Tree #: 40\n",
      "Tree #: 50\n",
      "Tree #: 60\n",
      "Tree #: 70\n",
      "Tree #: 80\n",
      "Tree #: 90\n"
     ]
    }
   ],
   "source": [
    "forest, cols = randomForest(X_train, y_train, 100, 7)"
   ]
  },
  {
   "cell_type": "code",
   "execution_count": 45,
   "metadata": {},
   "outputs": [
    {
     "name": "stdout",
     "output_type": "stream",
     "text": [
      "Accuracy:  0.9276773296244785\n"
     ]
    }
   ],
   "source": [
    "prediction = forestPredict(forest, cols, X_test, 100)\n",
    "accuracy(prediction, y_test)"
   ]
  },
  {
   "cell_type": "markdown",
   "metadata": {},
   "source": [
    "### Part IV: Testing Our Decision Tree on a New Dataset - kmnist dataset of Japanese (Hiragana) characters"
   ]
  },
  {
   "cell_type": "code",
   "execution_count": 62,
   "metadata": {},
   "outputs": [
    {
     "name": "stdout",
     "output_type": "stream",
     "text": [
      "Train images shape: (1400, 784)\n",
      "Train labels shape: (1400,)\n"
     ]
    },
    {
     "data": {
      "image/png": "[encoded data removed]",
      "text/plain": [
       "<Figure size 640x480 with 1 Axes>"
      ]
     },
     "metadata": {},
     "output_type": "display_data"
    }
   ],
   "source": [
    "import tensorflow_datasets as tfds\n",
    "\n",
    "dataset= tfds.load('kmnist', split='train', with_info=False)\n",
    "\n",
    "X, y = [], []\n",
    "\n",
    "for example in dataset:\n",
    "    X.append(example['image'])\n",
    "    y.append(example['label'])\n",
    "\n",
    "X = np.array(X)\n",
    "y = np.array(y).reshape((len(y),1))\n",
    "\n",
    "X = X / 255.0\n",
    "\n",
    "X = X.reshape(X.shape[0], -1)\n",
    "\n",
    "Xy = np.append(X, y, axis = 1)\n",
    "\n",
    "np.random.shuffle(Xy)\n",
    "\n",
    "X = Xy[0:1400, 0:len(X[0])]\n",
    "y = Xy[0:1400, len(X[0])]\n",
    "\n",
    "print(\"Train images shape:\", X.shape)\n",
    "print(\"Train labels shape:\", y.shape)\n",
    "\n",
    "img = X[0].reshape(28, 28)\n",
    "\n",
    "plt.imshow(img, cmap='gray')\n",
    "plt.title(f\"Label: {y[0]}\")\n",
    "plt.show()"
   ]
  },
  {
   "cell_type": "code",
   "execution_count": 63,
   "metadata": {},
   "outputs": [
    {
     "name": "stdout",
     "output_type": "stream",
     "text": [
      "(1400, 784)\n"
     ]
    }
   ],
   "source": [
    "X_scale = StandardScaler()\n",
    "X = X_scale.fit_transform(X)\n",
    "\n",
    "X[0,:]\n",
    "\n",
    "print(X.shape)"
   ]
  },
  {
   "cell_type": "code",
   "execution_count": 64,
   "metadata": {},
   "outputs": [],
   "source": [
    "X_train, X_test, y_train, y_test = train_test_split(X, y, test_size=0.4)"
   ]
  },
  {
   "cell_type": "code",
   "execution_count": 65,
   "metadata": {},
   "outputs": [],
   "source": [
    "root = createTree(X_train, y_train, 0, 7)"
   ]
  },
  {
   "cell_type": "code",
   "execution_count": 66,
   "metadata": {},
   "outputs": [
    {
     "name": "stdout",
     "output_type": "stream",
     "text": [
      "Accuracy:  0.4\n"
     ]
    }
   ],
   "source": [
    "accuracy(predict(root, X_test), y_test)"
   ]
  },
  {
   "cell_type": "markdown",
   "metadata": {},
   "source": [
    "### Part V: Testing Our Random Forest on The New Dataset"
   ]
  },
  {
   "cell_type": "code",
   "execution_count": 67,
   "metadata": {},
   "outputs": [
    {
     "name": "stdout",
     "output_type": "stream",
     "text": [
      "Tree #: 1\n",
      "Tree #: 10\n",
      "Tree #: 20\n",
      "Tree #: 30\n",
      "Tree #: 40\n",
      "Tree #: 50\n",
      "Tree #: 60\n",
      "Tree #: 70\n",
      "Tree #: 80\n",
      "Tree #: 90\n"
     ]
    }
   ],
   "source": [
    "forest, cols = randomForest(X_train, y_train, 100, 7)"
   ]
  },
  {
   "cell_type": "code",
   "execution_count": 68,
   "metadata": {},
   "outputs": [
    {
     "name": "stdout",
     "output_type": "stream",
     "text": [
      "Accuracy:  0.6892857142857143\n"
     ]
    }
   ],
   "source": [
    "prediction = forestPredict(forest, cols, X_test, 100)\n",
    "accuracy(prediction, y_test)"
   ]
  }
 ],
 "metadata": {
  "kernelspec": {
   "display_name": "venv",
   "language": "python",
   "name": "python3"
  },
  "language_info": {
   "codemirror_mode": {
    "name": "ipython",
    "version": 3
   },
   "file_extension": ".py",
   "mimetype": "text/x-python",
   "name": "python",
   "nbconvert_exporter": "python",
   "pygments_lexer": "ipython3",
   "version": "3.12.0"
  }
 },
 "nbformat": 4,
 "nbformat_minor": 2
}
